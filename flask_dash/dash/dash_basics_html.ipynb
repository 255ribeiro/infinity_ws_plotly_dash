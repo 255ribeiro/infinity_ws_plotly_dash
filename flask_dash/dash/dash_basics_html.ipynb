{
 "cells": [
  {
   "cell_type": "code",
   "execution_count": 2,
   "metadata": {},
   "outputs": [],
   "source": [
    "from dash import Dash, dcc, html\n",
    "# deprecated imports\n",
    "#from dash import Dash\n",
    "#import dash_core_components as dcc\n",
    "#import dash_html_components as html"
   ]
  },
  {
   "cell_type": "code",
   "execution_count": 3,
   "metadata": {},
   "outputs": [
    {
     "name": "stdout",
     "output_type": "stream",
     "text": [
      "Dash is running on http://127.0.0.1:8050/\n",
      "\n",
      " * Serving Flask app '__main__'\n",
      " * Debug mode: off\n"
     ]
    },
    {
     "name": "stderr",
     "output_type": "stream",
     "text": [
      "WARNING: This is a development server. Do not use it in a production deployment. Use a production WSGI server instead.\n",
      " * Running on http://127.0.0.1:8050\n",
      "Press CTRL+C to quit\n",
      "127.0.0.1 - - [11/Dec/2022 11:26:17] \"GET / HTTP/1.1\" 200 -\n",
      "127.0.0.1 - - [11/Dec/2022 11:26:18] \"GET /_dash-component-suites/dash/deps/polyfill@7.v2_7_0m1670252102.12.1.min.js HTTP/1.1\" 200 -\n",
      "127.0.0.1 - - [11/Dec/2022 11:26:18] \"GET /_dash-component-suites/dash/deps/react@16.v2_7_0m1670252102.14.0.min.js HTTP/1.1\" 200 -\n",
      "127.0.0.1 - - [11/Dec/2022 11:26:18] \"GET /_dash-component-suites/dash/deps/prop-types@15.v2_7_0m1670252102.8.1.min.js HTTP/1.1\" 200 -\n",
      "127.0.0.1 - - [11/Dec/2022 11:26:18] \"GET /_dash-component-suites/dash/deps/react-dom@16.v2_7_0m1670252102.14.0.min.js HTTP/1.1\" 200 -\n",
      "127.0.0.1 - - [11/Dec/2022 11:26:18] \"GET /_dash-component-suites/dash/dcc/dash_core_components.v2_7_0m1670252102.js HTTP/1.1\" 200 -\n",
      "127.0.0.1 - - [11/Dec/2022 11:26:18] \"GET /_dash-component-suites/dash/dash-renderer/build/dash_renderer.v2_7_0m1670252101.min.js HTTP/1.1\" 200 -\n",
      "127.0.0.1 - - [11/Dec/2022 11:26:18] \"GET /_dash-component-suites/dash/dcc/dash_core_components-shared.v2_7_0m1670252102.js HTTP/1.1\" 200 -\n",
      "127.0.0.1 - - [11/Dec/2022 11:26:18] \"GET /_dash-component-suites/dash/dash_table/bundle.v5_2_0m1670252101.js HTTP/1.1\" 200 -\n",
      "127.0.0.1 - - [11/Dec/2022 11:26:18] \"GET /_dash-component-suites/dash/html/dash_html_components.v2_0_6m1670252103.min.js HTTP/1.1\" 200 -\n",
      "127.0.0.1 - - [11/Dec/2022 11:26:18] \"GET /_dash-layout HTTP/1.1\" 200 -\n",
      "127.0.0.1 - - [11/Dec/2022 11:26:18] \"GET /_dash-dependencies HTTP/1.1\" 200 -\n",
      "127.0.0.1 - - [11/Dec/2022 11:26:18] \"GET /_favicon.ico?v=2.7.0 HTTP/1.1\" 200 -\n",
      "127.0.0.1 - - [11/Dec/2022 11:26:20] \"GET / HTTP/1.1\" 200 -\n",
      "127.0.0.1 - - [11/Dec/2022 11:26:20] \"GET /_dash-layout HTTP/1.1\" 200 -\n",
      "127.0.0.1 - - [11/Dec/2022 11:26:20] \"GET /_dash-dependencies HTTP/1.1\" 200 -\n",
      "127.0.0.1 - - [11/Dec/2022 11:26:20] \"GET /_favicon.ico?v=2.7.0 HTTP/1.1\" 200 -\n"
     ]
    }
   ],
   "source": [
    "app = Dash(__name__)\n",
    "\n",
    "app.layout = html.Div(children=[\n",
    "    html.H1('Hello dash'),\n",
    "    html.Div('A Python framework for building reactive web-apps')\n",
    "\n",
    "])\n",
    "\n",
    "if __name__ == \"__main__\":\n",
    "    app.run_server()"
   ]
  },
  {
   "attachments": {},
   "cell_type": "markdown",
   "metadata": {},
   "source": [
    "### Local host\n",
    "[http://127.0.0.1:8050/](http://127.0.0.1:8050/)"
   ]
  }
 ],
 "metadata": {
  "kernelspec": {
   "display_name": ".venv",
   "language": "python",
   "name": "python3"
  },
  "language_info": {
   "codemirror_mode": {
    "name": "ipython",
    "version": 3
   },
   "file_extension": ".py",
   "mimetype": "text/x-python",
   "name": "python",
   "nbconvert_exporter": "python",
   "pygments_lexer": "ipython3",
   "version": "3.10.6 (tags/v3.10.6:9c7b4bd, Aug  1 2022, 21:53:49) [MSC v.1932 64 bit (AMD64)]"
  },
  "orig_nbformat": 4,
  "vscode": {
   "interpreter": {
    "hash": "690c35ee6a4e6f4cb4592a2f147c73b1e469dbeeb7cd573821d67f28b39db452"
   }
  }
 },
 "nbformat": 4,
 "nbformat_minor": 2
}
