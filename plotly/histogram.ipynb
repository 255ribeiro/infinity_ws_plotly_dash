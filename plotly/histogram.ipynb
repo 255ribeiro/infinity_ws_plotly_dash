{
 "cells": [
  {
   "attachments": {},
   "cell_type": "markdown",
   "metadata": {},
   "source": [
    "# Histograma"
   ]
  },
  {
   "cell_type": "code",
   "execution_count": 1,
   "metadata": {},
   "outputs": [],
   "source": [
    "import plotly.offline as pyo\n",
    "import plotly.graph_objs as go\n",
    "import pandas as pd"
   ]
  },
  {
   "attachments": {},
   "cell_type": "markdown",
   "metadata": {},
   "source": [
    "## Data\n",
    "\n",
    "### Kaggle\n",
    "[https://www.kaggle.com/datasets/guilherme26/house-pricing-in-belo-horizonte](https://www.kaggle.com/datasets/guilherme26/house-pricing-in-belo-horizonte)\n",
    "\n",
    "### Github\n",
    "\n",
    "[https://raw.githubusercontent.com/255ribeiro/infinity_ws_plotly_dash/master/docs/plotly/data/data_bh_houses.csv](https://raw.githubusercontent.com/255ribeiro/infinity_ws_plotly_dash/master/docs/plotly/data/data_bh_houses.csv)"
   ]
  },
  {
   "cell_type": "code",
   "execution_count": 2,
   "metadata": {},
   "outputs": [
    {
     "name": "stdout",
     "output_type": "stream",
     "text": [
      "<class 'pandas.core.frame.DataFrame'>\n",
      "RangeIndex: 5981 entries, 0 to 5980\n",
      "Data columns (total 10 columns):\n",
      " #   Column         Non-Null Count  Dtype  \n",
      "---  ------         --------------  -----  \n",
      " 0   address        5981 non-null   object \n",
      " 1   adm-fees       3977 non-null   float64\n",
      " 2   garage-places  5981 non-null   object \n",
      " 3   price          5951 non-null   float64\n",
      " 4   rooms          5981 non-null   object \n",
      " 5   square-foot    5981 non-null   object \n",
      " 6   neighborhood   5957 non-null   object \n",
      " 7   city           5981 non-null   object \n",
      " 8   latitude       5981 non-null   float64\n",
      " 9   longitude      5981 non-null   float64\n",
      "dtypes: float64(4), object(6)\n",
      "memory usage: 467.4+ KB\n"
     ]
    }
   ],
   "source": [
    "df = pd.read_csv('./data/data_bh_houses.csv')\n",
    "df.info()"
   ]
  },
  {
   "cell_type": "code",
   "execution_count": 4,
   "metadata": {},
   "outputs": [
    {
     "name": "stdout",
     "output_type": "stream",
     "text": [
      "<class 'pandas.core.frame.DataFrame'>\n",
      "Int64Index: 5951 entries, 0 to 5980\n",
      "Data columns (total 10 columns):\n",
      " #   Column         Non-Null Count  Dtype  \n",
      "---  ------         --------------  -----  \n",
      " 0   address        5951 non-null   object \n",
      " 1   adm-fees       3977 non-null   float64\n",
      " 2   garage-places  5951 non-null   object \n",
      " 3   price          5951 non-null   float64\n",
      " 4   rooms          5951 non-null   object \n",
      " 5   square-foot    5951 non-null   object \n",
      " 6   neighborhood   5927 non-null   object \n",
      " 7   city           5951 non-null   object \n",
      " 8   latitude       5951 non-null   float64\n",
      " 9   longitude      5951 non-null   float64\n",
      "dtypes: float64(4), object(6)\n",
      "memory usage: 511.4+ KB\n"
     ]
    }
   ],
   "source": [
    "df.dropna(subset=['price'], inplace=True)\n",
    "df.info()"
   ]
  },
  {
   "cell_type": "code",
   "execution_count": 6,
   "metadata": {},
   "outputs": [
    {
     "name": "stdout",
     "output_type": "stream",
     "text": [
      "130000000.0\n",
      "450.0\n"
     ]
    }
   ],
   "source": [
    "print(df['price'].max())\n",
    "print(df['price'].min())"
   ]
  },
  {
   "cell_type": "code",
   "execution_count": 17,
   "metadata": {},
   "outputs": [
    {
     "data": {
      "text/plain": [
       "'hist.html'"
      ]
     },
     "execution_count": 17,
     "metadata": {},
     "output_type": "execute_result"
    }
   ],
   "source": [
    "trace = go.Histogram(\n",
    "    x=df['price'],\n",
    "    xbins=dict(start=df['price'].min(),\n",
    "    end=df['price'].max(),\n",
    "    size=10_000) )\n",
    "    # trace = go.Histogram(x=df['price'],xbins=dict(start=50_000, end=10_000_000, size=200_000) )\n",
    "\n",
    "layout = go.Layout(title='Histograma')\n",
    "\n",
    "fig = go.Figure(data =[trace], layout=layout)\n",
    "\n",
    "pyo.plot(fig,filename='hist.html')"
   ]
  }
 ],
 "metadata": {
  "kernelspec": {
   "display_name": ".venv",
   "language": "python",
   "name": "python3"
  },
  "language_info": {
   "codemirror_mode": {
    "name": "ipython",
    "version": 3
   },
   "file_extension": ".py",
   "mimetype": "text/x-python",
   "name": "python",
   "nbconvert_exporter": "python",
   "pygments_lexer": "ipython3",
   "version": "3.10.6"
  },
  "orig_nbformat": 4,
  "vscode": {
   "interpreter": {
    "hash": "690c35ee6a4e6f4cb4592a2f147c73b1e469dbeeb7cd573821d67f28b39db452"
   }
  }
 },
 "nbformat": 4,
 "nbformat_minor": 2
}
