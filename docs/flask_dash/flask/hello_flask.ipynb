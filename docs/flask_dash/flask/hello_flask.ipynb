{
 "cells": [
  {
   "cell_type": "code",
   "execution_count": 1,
   "metadata": {},
   "outputs": [
    {
     "name": "stdout",
     "output_type": "stream",
     "text": [
      " * Serving Flask app '__main__'\n",
      " * Debug mode: off\n"
     ]
    },
    {
     "name": "stderr",
     "output_type": "stream",
     "text": [
      "WARNING: This is a development server. Do not use it in a production deployment. Use a production WSGI server instead.\n",
      " * Running on http://127.0.0.1:5000\n",
      "Press CTRL+C to quit\n",
      "127.0.0.1 - - [10/Dec/2022 20:33:12] \"GET / HTTP/1.1\" 200 -\n"
     ]
    }
   ],
   "source": [
    "\n",
    "from flask import Flask\n",
    "\n",
    "app = Flask(__name__)\n",
    "\n",
    "@app.route('/')\n",
    "def hello_flask():\n",
    "    return \"Hello Flask\"\n",
    "\n",
    "@app.route('/other')\n",
    "def other_flask():\n",
    "    return \"<h1 style='color: blue'>Other page</h1>\"\n",
    "\n",
    "if __name__ == \"__main__\":\n",
    "    app.run()\n"
   ]
  },
  {
   "attachments": {},
   "cell_type": "markdown",
   "metadata": {},
   "source": [
    "### Local Host\n",
    "[http://127.0.0.1:5000](http://127.0.0.1:5000)\n",
    "\n",
    "\n",
    "[http://127.0.0.1:5000/other](http://127.0.0.1:5000/other)"
   ]
  },
  {
   "attachments": {},
   "cell_type": "markdown",
   "metadata": {},
   "source": [
    "## Ajustando variáveis de ambiente do Flask\n",
    "### Windows cmd\n",
    "use o comando ```set``` e o valor pretendido para a variável\n",
    "```shell\n",
    "set FASK_APP=app.py\n",
    "```\n",
    "```Shell\n",
    "set FASK_ENV=development\n",
    "```\n",
    "### Powershell\n",
    "use o comando ```$env:``` e aspas ao redor do valor\n",
    "```shell\n",
    "$env:FASK_APP=\"app.py\"\n",
    "```\n",
    "```shell\n",
    "$env:FASK_ENV=\"development\"\n",
    "```\n",
    "\n",
    "### Linux, Mac..\n",
    "use o comando ```export``` e o valor pretendido para a variável\n",
    "```shell\n",
    "export FASK_APP=app.py\n",
    "```\n",
    "```shell\n",
    "export FASK_ENV=development\n",
    "```\n"
   ]
  },
  {
   "cell_type": "code",
   "execution_count": null,
   "metadata": {},
   "outputs": [],
   "source": []
  }
 ],
 "metadata": {
  "kernelspec": {
   "display_name": ".venv",
   "language": "python",
   "name": "python3"
  },
  "language_info": {
   "codemirror_mode": {
    "name": "ipython",
    "version": 3
   },
   "file_extension": ".py",
   "mimetype": "text/x-python",
   "name": "python",
   "nbconvert_exporter": "python",
   "pygments_lexer": "ipython3",
   "version": "3.10.6"
  },
  "orig_nbformat": 4,
  "vscode": {
   "interpreter": {
    "hash": "690c35ee6a4e6f4cb4592a2f147c73b1e469dbeeb7cd573821d67f28b39db452"
   }
  }
 },
 "nbformat": 4,
 "nbformat_minor": 2
}
