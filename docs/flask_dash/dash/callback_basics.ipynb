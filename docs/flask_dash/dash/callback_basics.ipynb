{
 "cells": [
  {
   "cell_type": "code",
   "execution_count": 4,
   "metadata": {},
   "outputs": [],
   "source": [
    "from dash import Dash, dcc, html\n",
    "from dash.dependencies import Input, Output\n",
    "# deprecated imports\n",
    "#from dash import Dash\n",
    "#import dash_core_components as dcc\n",
    "#import dash_html_components as html\n"
   ]
  },
  {
   "cell_type": "code",
   "execution_count": 6,
   "metadata": {},
   "outputs": [
    {
     "name": "stdout",
     "output_type": "stream",
     "text": [
      "Dash is running on http://127.0.0.1:8050/\n",
      "\n",
      " * Serving Flask app '__main__'\n",
      " * Debug mode: off\n"
     ]
    },
    {
     "name": "stderr",
     "output_type": "stream",
     "text": [
      "WARNING: This is a development server. Do not use it in a production deployment. Use a production WSGI server instead.\n",
      " * Running on http://127.0.0.1:8050\n",
      "Press CTRL+C to quit\n",
      "127.0.0.1 - - [11/Dec/2022 23:02:15] \"GET / HTTP/1.1\" 200 -\n",
      "127.0.0.1 - - [11/Dec/2022 23:02:15] \"GET /_dash-layout HTTP/1.1\" 200 -\n",
      "127.0.0.1 - - [11/Dec/2022 23:02:15] \"GET /_dash-dependencies HTTP/1.1\" 200 -\n",
      "127.0.0.1 - - [11/Dec/2022 23:02:15] \"GET /_favicon.ico?v=2.7.0 HTTP/1.1\" 200 -\n",
      "127.0.0.1 - - [11/Dec/2022 23:02:15] \"POST /_dash-update-component HTTP/1.1\" 200 -\n",
      "127.0.0.1 - - [11/Dec/2022 23:02:22] \"POST /_dash-update-component HTTP/1.1\" 200 -\n",
      "127.0.0.1 - - [11/Dec/2022 23:02:22] \"POST /_dash-update-component HTTP/1.1\" 200 -\n",
      "127.0.0.1 - - [11/Dec/2022 23:02:22] \"POST /_dash-update-component HTTP/1.1\" 200 -\n",
      "127.0.0.1 - - [11/Dec/2022 23:02:22] \"POST /_dash-update-component HTTP/1.1\" 200 -\n",
      "127.0.0.1 - - [11/Dec/2022 23:02:22] \"POST /_dash-update-component HTTP/1.1\" 200 -\n"
     ]
    }
   ],
   "source": [
    "app = Dash(__name__)\n",
    "\n",
    "app.layout = html.Div([\n",
    "    dcc.Input(id='text_id', value='digite aqui', type='text'),\n",
    "    html.Div(id='div_id')\n",
    "])\n",
    "\n",
    "@app.callback(\n",
    "    Output(component_id='div_id', component_property='children'),\n",
    "    [Input(component_id='text_id', component_property='value')]\n",
    ")\n",
    "def update_output_div(string_input):\n",
    "    return 'Você digitou: {}'.format(string_input)\n",
    "\n",
    "if __name__ == '__main__':\n",
    "    app.run_server()\n"
   ]
  }
 ],
 "metadata": {
  "kernelspec": {
   "display_name": ".venv",
   "language": "python",
   "name": "python3"
  },
  "language_info": {
   "codemirror_mode": {
    "name": "ipython",
    "version": 3
   },
   "file_extension": ".py",
   "mimetype": "text/x-python",
   "name": "python",
   "nbconvert_exporter": "python",
   "pygments_lexer": "ipython3",
   "version": "3.10.6 (tags/v3.10.6:9c7b4bd, Aug  1 2022, 21:53:49) [MSC v.1932 64 bit (AMD64)]"
  },
  "orig_nbformat": 4,
  "vscode": {
   "interpreter": {
    "hash": "690c35ee6a4e6f4cb4592a2f147c73b1e469dbeeb7cd573821d67f28b39db452"
   }
  }
 },
 "nbformat": 4,
 "nbformat_minor": 2
}
