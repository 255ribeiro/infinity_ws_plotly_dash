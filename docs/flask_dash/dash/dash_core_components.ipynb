{
 "cells": [
  {
   "cell_type": "code",
   "execution_count": 1,
   "metadata": {},
   "outputs": [],
   "source": [
    "from dash import Dash, dcc, html\n",
    "# deprecated imports\n",
    "#from dash import Dash\n",
    "#import dash_core_components as dcc\n",
    "#import dash_html_components as html"
   ]
  },
  {
   "attachments": {},
   "cell_type": "markdown",
   "metadata": {},
   "source": [
    "### Documentação Dash core components\n",
    "[https://dash.plotly.com/dash-core-components](https://dash.plotly.com/dash-core-components)"
   ]
  },
  {
   "cell_type": "code",
   "execution_count": 2,
   "metadata": {},
   "outputs": [],
   "source": [
    "app = Dash()\n",
    "app.title = 'core components'\n"
   ]
  },
  {
   "attachments": {},
   "cell_type": "markdown",
   "metadata": {},
   "source": [
    "### DROPDOWN \n",
    "\n",
    "[https://dash.plot.ly/dash-core-components/dropdown](https://dash.plot.ly/dash-core-components/dropdown)"
   ]
  },
  {
   "cell_type": "code",
   "execution_count": 4,
   "metadata": {},
   "outputs": [
    {
     "name": "stdout",
     "output_type": "stream",
     "text": [
      "Dash is running on http://127.0.0.1:8050/\n",
      "\n",
      " * Serving Flask app '__main__'\n",
      " * Debug mode: off\n"
     ]
    },
    {
     "name": "stderr",
     "output_type": "stream",
     "text": [
      "WARNING: This is a development server. Do not use it in a production deployment. Use a production WSGI server instead.\n",
      " * Running on http://127.0.0.1:8050\n",
      "Press CTRL+C to quit\n",
      "127.0.0.1 - - [11/Dec/2022 22:58:05] \"GET /_dash-dependencies HTTP/1.1\" 200 -\n",
      "127.0.0.1 - - [11/Dec/2022 22:58:05] \"GET /_dash-layout HTTP/1.1\" 200 -\n",
      "127.0.0.1 - - [11/Dec/2022 22:58:05] \"GET /_dash-component-suites/dash/dcc/async-dropdown.js HTTP/1.1\" 304 -\n",
      "127.0.0.1 - - [11/Dec/2022 22:58:07] \"GET / HTTP/1.1\" 200 -\n",
      "127.0.0.1 - - [11/Dec/2022 22:58:08] \"GET /_dash-layout HTTP/1.1\" 200 -\n",
      "127.0.0.1 - - [11/Dec/2022 22:58:08] \"GET /_dash-dependencies HTTP/1.1\" 200 -\n",
      "127.0.0.1 - - [11/Dec/2022 22:58:08] \"GET /_dash-component-suites/dash/dcc/async-dropdown.js HTTP/1.1\" 304 -\n",
      "127.0.0.1 - - [11/Dec/2022 22:58:08] \"GET /_favicon.ico?v=2.7.0 HTTP/1.1\" 200 -\n"
     ]
    }
   ],
   "source": [
    "app.layout = html.Div([  \n",
    "    \n",
    "    html.Label('Dropdown'),\n",
    "    dcc.Dropdown(\n",
    "        options=[\n",
    "            {'label': 'Salvador', 'value': 'SSA'},\n",
    "            {'label': 'Fortaleza', 'value': 'FOR'},\n",
    "            {'label': 'Belo Horizonte', 'value': 'BH'}\n",
    "        ],\n",
    "        value='BH'\n",
    "    ),\n",
    "\n",
    "    html.Label('Multi-Select Dropdown'),\n",
    "    dcc.Dropdown(\n",
    "        options=[\n",
    "            {'label': 'Salvador', 'value': 'SSA'},\n",
    "            {'label': 'Fortaleza', 'value': 'FOR'},\n",
    "            {'label': 'Belo Horizonte', 'value': 'BH'}\n",
    "        ],\n",
    "        value=['SSA', 'FOR'],\n",
    "        multi=True\n",
    "    )\n",
    "\n",
    "], style={'width': '70%'})\n",
    "\n",
    "if __name__ == '__main__':\n",
    "    app.run_server()\n"
   ]
  },
  {
   "attachments": {},
   "cell_type": "markdown",
   "metadata": {},
   "source": [
    " ### SLIDER\n",
    " \n",
    " [https://dash.plot.ly/dash-core-components/slider](https://dash.plot.ly/dash-core-components/slider)"
   ]
  },
  {
   "attachments": {},
   "cell_type": "markdown",
   "metadata": {},
   "source": [
    "### RADIO ITEMS\n",
    "[https://dash.plot.ly/dash-core-components/radioitems](https://dash.plot.ly/dash-core-components/radioitems)"
   ]
  },
  {
   "cell_type": "code",
   "execution_count": null,
   "metadata": {},
   "outputs": [],
   "source": [
    "app.layout = html.Div([ \n",
    "\n",
    "    html.Label('Radio Items'),\n",
    "    dcc.RadioItems(\n",
    "        options=[\n",
    "            {'label': 'Salvador', 'value': 'SSA'},\n",
    "            {'label': 'Fortaleza', 'value': 'FOR'},\n",
    "            {'label': 'Belo Horizonte', 'value': 'BH'}\n",
    "        ],\n",
    "        value='SSA'\n",
    "    )\n",
    "\n",
    "], style={'width': '50%'})\n",
    "\n",
    "if __name__ == '__main__':\n",
    "    app.run_server()\n"
   ]
  }
 ],
 "metadata": {
  "kernelspec": {
   "display_name": ".venv",
   "language": "python",
   "name": "python3"
  },
  "language_info": {
   "codemirror_mode": {
    "name": "ipython",
    "version": 3
   },
   "file_extension": ".py",
   "mimetype": "text/x-python",
   "name": "python",
   "nbconvert_exporter": "python",
   "pygments_lexer": "ipython3",
   "version": "3.10.6 (tags/v3.10.6:9c7b4bd, Aug  1 2022, 21:53:49) [MSC v.1932 64 bit (AMD64)]"
  },
  "orig_nbformat": 4,
  "vscode": {
   "interpreter": {
    "hash": "690c35ee6a4e6f4cb4592a2f147c73b1e469dbeeb7cd573821d67f28b39db452"
   }
  }
 },
 "nbformat": 4,
 "nbformat_minor": 2
}
