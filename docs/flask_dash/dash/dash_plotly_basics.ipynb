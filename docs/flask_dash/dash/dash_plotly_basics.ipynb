{
 "cells": [
  {
   "cell_type": "code",
   "execution_count": 1,
   "metadata": {},
   "outputs": [],
   "source": [
    "from dash import Dash, dcc, html\n",
    "# deprecated imports\n",
    "#from dash import Dash\n",
    "#import dash_core_components as dcc\n",
    "#import dash_html_components as html\n",
    "import plotly.graph_objs as go\n",
    "import numpy as np\n"
   ]
  },
  {
   "cell_type": "code",
   "execution_count": 2,
   "metadata": {},
   "outputs": [
    {
     "name": "stdout",
     "output_type": "stream",
     "text": [
      "Dash is running on http://127.0.0.1:8050/\n",
      "\n",
      " * Serving Flask app '__main__'\n",
      " * Debug mode: off\n"
     ]
    },
    {
     "name": "stderr",
     "output_type": "stream",
     "text": [
      "WARNING: This is a development server. Do not use it in a production deployment. Use a production WSGI server instead.\n",
      " * Running on http://127.0.0.1:8050\n",
      "Press CTRL+C to quit\n",
      "127.0.0.1 - - [11/Dec/2022 12:09:33] \"GET / HTTP/1.1\" 200 -\n",
      "127.0.0.1 - - [11/Dec/2022 12:09:33] \"GET /_dash-dependencies HTTP/1.1\" 200 -\n",
      "127.0.0.1 - - [11/Dec/2022 12:09:33] \"GET /_dash-layout HTTP/1.1\" 200 -\n",
      "127.0.0.1 - - [11/Dec/2022 12:09:33] \"GET /_dash-component-suites/dash/dcc/async-graph.js HTTP/1.1\" 304 -\n",
      "127.0.0.1 - - [11/Dec/2022 12:09:33] \"GET /_dash-component-suites/dash/dcc/async-plotlyjs.js HTTP/1.1\" 304 -\n"
     ]
    }
   ],
   "source": [
    "app = Dash(__name__)\n",
    "\n",
    "# random data\n",
    "rand_x1 = np.arange(0,21)\n",
    "rand_y1 = np.random.rand(1,21).flatten()*10\n",
    "\n",
    "# dash app\n",
    "app.layout = html.Div(children=[\n",
    "    html.H1('Hello dash'),\n",
    "    html.Div('A Python framework for building reactive web-apps'),\n",
    "    #Graph\n",
    "    dcc.Graph(id='teste',\n",
    "    figure={'data':[  # Data\n",
    "    go.Scatter(\n",
    "    x = rand_x1,\n",
    "    y = rand_y1,\n",
    "    mode = 'markers',\n",
    ")\n",
    "],\n",
    "\n",
    "    'layout': go.Layout( # Layout\n",
    "    title = 'Valores aleaórios', # dict(text ='Valores aleaórios',font = dict(size=30)),\n",
    "    xaxis = dict(title = 'Eixo X'), # dict(title = 'Eixo X', color='orange')\n",
    "    yaxis = dict(title = 'Eixo Y'), # dict(title = 'Eixo Y', color='gold')\n",
    "    hovermode ='closest' # handles multiple points landing on the same vertical\n",
    ")\n",
    "    })\n",
    "])\n",
    "\n",
    "# run server\n",
    "if __name__ == \"__main__\":\n",
    "    app.run_server()\n"
   ]
  },
  {
   "attachments": {},
   "cell_type": "markdown",
   "metadata": {},
   "source": [
    "### Local host\n",
    "[http://127.0.0.1:8050/](http://127.0.0.1:8050/)"
   ]
  }
 ],
 "metadata": {
  "kernelspec": {
   "display_name": ".venv",
   "language": "python",
   "name": "python3"
  },
  "language_info": {
   "codemirror_mode": {
    "name": "ipython",
    "version": 3
   },
   "file_extension": ".py",
   "mimetype": "text/x-python",
   "name": "python",
   "nbconvert_exporter": "python",
   "pygments_lexer": "ipython3",
   "version": "3.10.6"
  },
  "orig_nbformat": 4,
  "vscode": {
   "interpreter": {
    "hash": "690c35ee6a4e6f4cb4592a2f147c73b1e469dbeeb7cd573821d67f28b39db452"
   }
  }
 },
 "nbformat": 4,
 "nbformat_minor": 2
}
