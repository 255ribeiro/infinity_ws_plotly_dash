{
 "cells": [
  {
   "attachments": {},
   "cell_type": "markdown",
   "metadata": {},
   "source": [
    "# BoxPlots"
   ]
  },
  {
   "cell_type": "code",
   "execution_count": 1,
   "metadata": {},
   "outputs": [],
   "source": [
    "import plotly.offline as pyo\n",
    "import plotly.graph_objs as go\n",
    "import pandas as pd"
   ]
  },
  {
   "attachments": {},
   "cell_type": "markdown",
   "metadata": {},
   "source": [
    "## Data\n",
    "\n",
    "### Kaggle\n",
    "[https://www.kaggle.com/datasets/guilherme26/house-pricing-in-belo-horizonte](https://www.kaggle.com/datasets/guilherme26/house-pricing-in-belo-horizonte)\n",
    "\n",
    "### Github\n",
    "\n",
    "[https://raw.githubusercontent.com/255ribeiro/infinity_ws_plotly_dash/master/docs/plotly/data/data_bh_houses.csv](https://raw.githubusercontent.com/255ribeiro/infinity_ws_plotly_dash/master/docs/plotly/data/data_bh_houses.csv)"
   ]
  },
  {
   "cell_type": "code",
   "execution_count": 2,
   "metadata": {},
   "outputs": [],
   "source": [
    "df = pd.read_csv('./data/data_bh_houses.csv')"
   ]
  },
  {
   "cell_type": "code",
   "execution_count": 3,
   "metadata": {},
   "outputs": [
    {
     "name": "stdout",
     "output_type": "stream",
     "text": [
      "<class 'pandas.core.frame.DataFrame'>\n",
      "RangeIndex: 5981 entries, 0 to 5980\n",
      "Data columns (total 10 columns):\n",
      " #   Column         Non-Null Count  Dtype  \n",
      "---  ------         --------------  -----  \n",
      " 0   address        5981 non-null   object \n",
      " 1   adm-fees       3977 non-null   float64\n",
      " 2   garage-places  5981 non-null   object \n",
      " 3   price          5951 non-null   float64\n",
      " 4   rooms          5981 non-null   object \n",
      " 5   square-foot    5981 non-null   object \n",
      " 6   neighborhood   5957 non-null   object \n",
      " 7   city           5981 non-null   object \n",
      " 8   latitude       5981 non-null   float64\n",
      " 9   longitude      5981 non-null   float64\n",
      "dtypes: float64(4), object(6)\n",
      "memory usage: 467.4+ KB\n"
     ]
    }
   ],
   "source": [
    "df.info()"
   ]
  },
  {
   "cell_type": "code",
   "execution_count": 4,
   "metadata": {},
   "outputs": [
    {
     "data": {
      "text/plain": [
       "3      2169\n",
       "4      1591\n",
       "2      1249\n",
       "--      504\n",
       "1       210\n",
       "5       163\n",
       "6        38\n",
       "2-3      18\n",
       "7         9\n",
       "8         7\n",
       "3-4       6\n",
       "12        3\n",
       "9         3\n",
       "1-2       2\n",
       "13        2\n",
       "18        1\n",
       "16        1\n",
       "4-5       1\n",
       "45        1\n",
       "50        1\n",
       "10        1\n",
       "15        1\n",
       "Name: rooms, dtype: int64"
      ]
     },
     "execution_count": 4,
     "metadata": {},
     "output_type": "execute_result"
    }
   ],
   "source": [
    "df['rooms'].value_counts()"
   ]
  },
  {
   "cell_type": "code",
   "execution_count": 5,
   "metadata": {},
   "outputs": [
    {
     "data": {
      "text/plain": [
       "address             0\n",
       "adm-fees         2004\n",
       "garage-places       0\n",
       "price              30\n",
       "rooms               0\n",
       "square-foot         0\n",
       "neighborhood       24\n",
       "city                0\n",
       "latitude            0\n",
       "longitude           0\n",
       "dtype: int64"
      ]
     },
     "execution_count": 5,
     "metadata": {},
     "output_type": "execute_result"
    }
   ],
   "source": [
    "df.isna().sum()"
   ]
  },
  {
   "cell_type": "code",
   "execution_count": 6,
   "metadata": {},
   "outputs": [],
   "source": [
    "df.dropna(subset=['adm-fees', 'neighborhood'], inplace=True, how=\"any\")"
   ]
  },
  {
   "cell_type": "code",
   "execution_count": 7,
   "metadata": {},
   "outputs": [
    {
     "data": {
      "text/plain": [
       "array(['1', '4', '3', '2', '5', '6', '--', '7', '9', '12'], dtype=object)"
      ]
     },
     "execution_count": 7,
     "metadata": {},
     "output_type": "execute_result"
    }
   ],
   "source": [
    "df.rooms.unique()"
   ]
  },
  {
   "cell_type": "code",
   "execution_count": 8,
   "metadata": {},
   "outputs": [],
   "source": [
    "df = df[df['rooms'] != '--']"
   ]
  },
  {
   "cell_type": "code",
   "execution_count": 9,
   "metadata": {},
   "outputs": [
    {
     "data": {
      "text/plain": [
       "(3949, 10)"
      ]
     },
     "execution_count": 9,
     "metadata": {},
     "output_type": "execute_result"
    }
   ],
   "source": [
    "df.shape"
   ]
  },
  {
   "cell_type": "code",
   "execution_count": 10,
   "metadata": {},
   "outputs": [],
   "source": [
    "trace = go.Box(x= df['rooms'], y =df['price'])\n",
    "data=[trace]"
   ]
  },
  {
   "cell_type": "code",
   "execution_count": 11,
   "metadata": {},
   "outputs": [
    {
     "data": {
      "text/plain": [
       "'boxplot_01.html'"
      ]
     },
     "execution_count": 11,
     "metadata": {},
     "output_type": "execute_result"
    }
   ],
   "source": [
    "pyo.plot(data, filename='boxplot_01.html')"
   ]
  },
  {
   "cell_type": "code",
   "execution_count": 21,
   "metadata": {},
   "outputs": [
    {
     "data": {
      "text/plain": [
       "'boxplot_02.html'"
      ]
     },
     "execution_count": 21,
     "metadata": {},
     "output_type": "execute_result"
    }
   ],
   "source": [
    "data = []\n",
    "for n_rooms in df.rooms.unique():\n",
    "    df_aux = df[df['rooms']== n_rooms]\n",
    "    trace = go.Box(y =df_aux['price'],name = n_rooms , boxpoints='all')\n",
    "    if df_aux.shape[0] >= 5:\n",
    "        data.append(trace)\n",
    "\n",
    "\n",
    "pyo.plot(data, filename='boxplot_02.html')"
   ]
  },
  {
   "cell_type": "code",
   "execution_count": 13,
   "metadata": {},
   "outputs": [
    {
     "data": {
      "text/plain": [
       "'boxplot_03.html'"
      ]
     },
     "execution_count": 13,
     "metadata": {},
     "output_type": "execute_result"
    }
   ],
   "source": [
    "layout= go.Layout(title='Peço de imóveis em BH pornúmero de quartos')\n",
    "fig = go.Figure(data=data, layout=layout)\n",
    "pyo.plot(fig, filename='boxplot_03.html')"
   ]
  }
 ],
 "metadata": {
  "kernelspec": {
   "display_name": ".venv",
   "language": "python",
   "name": "python3"
  },
  "language_info": {
   "codemirror_mode": {
    "name": "ipython",
    "version": 3
   },
   "file_extension": ".py",
   "mimetype": "text/x-python",
   "name": "python",
   "nbconvert_exporter": "python",
   "pygments_lexer": "ipython3",
   "version": "3.10.6"
  },
  "orig_nbformat": 4,
  "vscode": {
   "interpreter": {
    "hash": "690c35ee6a4e6f4cb4592a2f147c73b1e469dbeeb7cd573821d67f28b39db452"
   }
  }
 },
 "nbformat": 4,
 "nbformat_minor": 2
}
