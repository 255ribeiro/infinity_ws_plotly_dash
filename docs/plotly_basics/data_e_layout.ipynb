{
 "cells": [
  {
   "cell_type": "code",
   "execution_count": 16,
   "metadata": {},
   "outputs": [
    {
     "name": "stdout",
     "output_type": "stream",
     "text": [
      "[6.27048037 2.88502335 3.40631825 0.53302954 7.02228453 8.0855856\n",
      " 3.66374045 6.76825454 9.38785888 9.35049427 0.20428225 8.41174905\n",
      " 4.42044396 8.88160465 7.02035816 1.64197434 1.95091224 0.60059028\n",
      " 9.32870411 2.17963276 9.70904907]\n"
     ]
    },
    {
     "data": {
      "text/plain": [
       "'scatter_with_layout.html'"
      ]
     },
     "execution_count": 16,
     "metadata": {},
     "output_type": "execute_result"
    }
   ],
   "source": [
    "import plotly.offline as pyo\n",
    "import plotly.graph_objs as go\n",
    "import numpy as np\n",
    "\n",
    "#np.random.seed(616)\n",
    "\n",
    "rand_x1 = np.arange(0,21)\n",
    "rand_y1 = np.random.rand(1,21).flatten()*10\n",
    "\n",
    "rand_x2 = np.arange(0,21)\n",
    "rand_y2 = np.random.randint(0,11,20)\n",
    "\n",
    "rand_x3 = np.arange(0,21)\n",
    "rand_y3 = np.random.randint(0,11,20)\n",
    "\n",
    "\n",
    "print(rand_y1)\n",
    "data = [go.Scatter(\n",
    "    x = rand_x1,\n",
    "    y = rand_y1,\n",
    "    mode = 'markers',\n",
    "),\n",
    "\n",
    "go.Scatter(\n",
    "    x = rand_x2,\n",
    "    y = rand_y2,\n",
    "    mode = 'lines',\n",
    "),\n",
    "\n",
    "go.Scatter(\n",
    "    x = rand_x3,\n",
    "    y = rand_y3,\n",
    "    mode = 'lines+markers',\n",
    "    \n",
    ")\n",
    "\n",
    "]\n",
    "\n",
    "layout = go.Layout(\n",
    "    title = 'Valores aleaórios', # dict(text ='Valores aleaórios',font = dict(size=30)),\n",
    "    xaxis = dict(title = 'Eixo X'), # dict(title = 'Eixo X', color='orange')\n",
    "    yaxis = dict(title = 'Eixo Y'), # dict(title = 'Eixo Y', color='gold')\n",
    "    hovermode ='closest' # handles multiple points landing on the same vertical\n",
    ")\n",
    "\n",
    "fig = go.Figure(data=data, layout=layout)\n",
    "\n",
    "pyo.plot(fig , filename='scatter_with_layout.html')"
   ]
  },
  {
   "cell_type": "code",
   "execution_count": null,
   "metadata": {},
   "outputs": [],
   "source": []
  }
 ],
 "metadata": {
  "kernelspec": {
   "display_name": ".venv",
   "language": "python",
   "name": "python3"
  },
  "language_info": {
   "codemirror_mode": {
    "name": "ipython",
    "version": 3
   },
   "file_extension": ".py",
   "mimetype": "text/x-python",
   "name": "python",
   "nbconvert_exporter": "python",
   "pygments_lexer": "ipython3",
   "version": "3.10.6"
  },
  "orig_nbformat": 4,
  "vscode": {
   "interpreter": {
    "hash": "690c35ee6a4e6f4cb4592a2f147c73b1e469dbeeb7cd573821d67f28b39db452"
   }
  }
 },
 "nbformat": 4,
 "nbformat_minor": 2
}
