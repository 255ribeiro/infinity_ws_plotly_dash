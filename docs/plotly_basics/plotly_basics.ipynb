{
 "cells": [
  {
   "attachments": {},
   "cell_type": "markdown",
   "metadata": {},
   "source": [
    "# Gráficos básicos com o plotly"
   ]
  },
  {
   "attachments": {},
   "cell_type": "markdown",
   "metadata": {},
   "source": [
    "## Scatter plots - um gráfico"
   ]
  },
  {
   "cell_type": "code",
   "execution_count": 50,
   "metadata": {},
   "outputs": [
    {
     "data": {
      "text/plain": [
       "'temp-plot.html'"
      ]
     },
     "execution_count": 50,
     "metadata": {},
     "output_type": "execute_result"
    }
   ],
   "source": [
    "import plotly.offline as pyo\n",
    "import plotly.graph_objs as go\n",
    "import numpy as np\n",
    "\n",
    "#np.random.seed(616)\n",
    "rand_x1 = np.random.randint(0,11,20)\n",
    "rand_y1 = np.random.randint(0,11,20)\n",
    "\n",
    "data = [go.Scatter(\n",
    "    x = rand_x1,\n",
    "    y = rand_y1,\n",
    "    mode = 'markers',\n",
    ")]\n",
    "\n",
    "pyo.plot(data)"
   ]
  },
  {
   "attachments": {},
   "cell_type": "markdown",
   "metadata": {},
   "source": [
    "## Dois gráficos"
   ]
  },
  {
   "cell_type": "code",
   "execution_count": 49,
   "metadata": {},
   "outputs": [
    {
     "name": "stdout",
     "output_type": "stream",
     "text": [
      "[1.82968164 8.77517909 2.2809668  4.14189683 0.89749508 5.26220208\n",
      " 7.53543427 3.78918807 9.99869479 8.53867538 4.52260275 8.14039259\n",
      " 0.36654964 4.92557351 6.58897846 2.69161255 7.21128706 2.67109266\n",
      " 9.34359488 8.76509399 7.71426173]\n"
     ]
    },
    {
     "data": {
      "text/plain": [
       "'scatter1.html'"
      ]
     },
     "execution_count": 49,
     "metadata": {},
     "output_type": "execute_result"
    }
   ],
   "source": [
    "import plotly.offline as pyo\n",
    "import plotly.graph_objs as go\n",
    "import numpy as np\n",
    "\n",
    "#np.random.seed(616)\n",
    "\n",
    "rand_x1 = np.arange(0,21)\n",
    "rand_y1 = np.random.rand(1,21).flatten()*10\n",
    "\n",
    "rand_x2 = np.arange(0,21)\n",
    "rand_y2 = np.random.randint(0,11,20)\n",
    "\n",
    "\n",
    "\n",
    "print(rand_y1)\n",
    "data = [go.Scatter(\n",
    "    x = rand_x1,\n",
    "    y = rand_y1,\n",
    "    mode = 'markers',\n",
    "),\n",
    "\n",
    "go.Scatter(\n",
    "    x = rand_x2,\n",
    "    y = rand_y2,\n",
    "    mode = 'lines',\n",
    ")\n",
    "    \n",
    "\n",
    "\n",
    "]\n",
    "\n",
    "pyo.plot(data, filename='scatter1.html')"
   ]
  },
  {
   "attachments": {},
   "cell_type": "markdown",
   "metadata": {},
   "source": [
    "## Três Gráficos"
   ]
  },
  {
   "cell_type": "code",
   "execution_count": 48,
   "metadata": {},
   "outputs": [
    {
     "name": "stdout",
     "output_type": "stream",
     "text": [
      "[5.10766152 3.79965575 9.31471517 7.8426611  1.00073108 1.00570094\n",
      " 8.32678783 4.98180688 2.06178512 7.97812868 9.66394421 7.94280904\n",
      " 1.86516268 8.55116972 3.51813835 0.64933444 5.3462959  5.00283095\n",
      " 8.56979347 6.02009628 9.05680228]\n"
     ]
    },
    {
     "data": {
      "text/plain": [
       "'scatter1.html'"
      ]
     },
     "execution_count": 48,
     "metadata": {},
     "output_type": "execute_result"
    }
   ],
   "source": [
    "import plotly.offline as pyo\n",
    "import plotly.graph_objs as go\n",
    "import numpy as np\n",
    "\n",
    "#np.random.seed(616)\n",
    "\n",
    "rand_x1 = np.arange(0,21)\n",
    "rand_y1 = np.random.rand(1,21).flatten()*10\n",
    "\n",
    "rand_x2 = np.arange(0,21)\n",
    "rand_y2 = np.random.randint(0,11,20)\n",
    "\n",
    "rand_x3 = np.arange(0,21)\n",
    "rand_y3 = np.random.randint(0,11,20)\n",
    "\n",
    "\n",
    "print(rand_y1)\n",
    "data = [go.Scatter(\n",
    "    x = rand_x1,\n",
    "    y = rand_y1,\n",
    "    mode = 'markers',\n",
    "),\n",
    "\n",
    "go.Scatter(\n",
    "    x = rand_x2,\n",
    "    y = rand_y2,\n",
    "    mode = 'lines',\n",
    "),\n",
    "\n",
    "go.Scatter(\n",
    "    x = rand_x3,\n",
    "    y = rand_y3,\n",
    "    mode = 'lines+markers',\n",
    "    \n",
    ")\n",
    "\n",
    "]\n",
    "\n",
    "pyo.plot(data, filename='scatter1.html')"
   ]
  },
  {
   "cell_type": "code",
   "execution_count": null,
   "metadata": {},
   "outputs": [],
   "source": []
  }
 ],
 "metadata": {
  "kernelspec": {
   "display_name": ".venv",
   "language": "python",
   "name": "python3"
  },
  "language_info": {
   "codemirror_mode": {
    "name": "ipython",
    "version": 3
   },
   "file_extension": ".py",
   "mimetype": "text/x-python",
   "name": "python",
   "nbconvert_exporter": "python",
   "pygments_lexer": "ipython3",
   "version": "3.10.6"
  },
  "orig_nbformat": 4,
  "vscode": {
   "interpreter": {
    "hash": "690c35ee6a4e6f4cb4592a2f147c73b1e469dbeeb7cd573821d67f28b39db452"
   }
  }
 },
 "nbformat": 4,
 "nbformat_minor": 2
}
