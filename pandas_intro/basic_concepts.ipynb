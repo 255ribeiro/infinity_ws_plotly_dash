{
 "cells": [
  {
   "cell_type": "markdown",
   "id": "7a293bce",
   "metadata": {},
   "source": [
    "# Basic concepts for data analisys with pandas"
   ]
  },
  {
   "cell_type": "markdown",
   "id": "5af81141",
   "metadata": {},
   "source": [
    "## Dictionaries"
   ]
  },
  {
   "cell_type": "code",
   "execution_count": 2,
   "id": "b849d50a",
   "metadata": {},
   "outputs": [],
   "source": [
    "d1 = dict(a= 1, b= 'a', c= [1,2,3])"
   ]
  },
  {
   "cell_type": "code",
   "execution_count": 7,
   "id": "1c4b7b34",
   "metadata": {},
   "outputs": [
    {
     "data": {
      "text/plain": [
       "2"
      ]
     },
     "execution_count": 7,
     "metadata": {},
     "output_type": "execute_result"
    }
   ],
   "source": [
    "d1['c'][1]"
   ]
  },
  {
   "cell_type": "code",
   "execution_count": 8,
   "id": "d986ca18",
   "metadata": {
    "scrolled": true
   },
   "outputs": [
    {
     "data": {
      "text/plain": [
       "(1, 'a', [1, 2, 3])"
      ]
     },
     "execution_count": 8,
     "metadata": {},
     "output_type": "execute_result"
    }
   ],
   "source": [
    "d1['a'], d1['b'], d1['c']"
   ]
  },
  {
   "cell_type": "code",
   "execution_count": 9,
   "id": "13f63b9d",
   "metadata": {},
   "outputs": [],
   "source": [
    "d2 = {'a':7, 'b': 9, 'c': [4,5,6]}"
   ]
  },
  {
   "cell_type": "code",
   "execution_count": 10,
   "id": "2cb7786a",
   "metadata": {
    "scrolled": false
   },
   "outputs": [
    {
     "data": {
      "text/plain": [
       "(7, 9, [1, 2, 3])"
      ]
     },
     "execution_count": 10,
     "metadata": {},
     "output_type": "execute_result"
    }
   ],
   "source": [
    "d2['a'], d2['b'], d2['c']"
   ]
  },
  {
   "cell_type": "code",
   "execution_count": 13,
   "id": "8ef0e875",
   "metadata": {},
   "outputs": [
    {
     "data": {
      "text/plain": [
       "dict_keys(['a', 'b', 'c'])"
      ]
     },
     "execution_count": 13,
     "metadata": {},
     "output_type": "execute_result"
    }
   ],
   "source": [
    "d2.keys()"
   ]
  },
  {
   "cell_type": "code",
   "execution_count": 14,
   "id": "6aed72b6",
   "metadata": {},
   "outputs": [],
   "source": [
    "d2['a'] = 12"
   ]
  },
  {
   "cell_type": "code",
   "execution_count": 16,
   "id": "5626ca0f",
   "metadata": {},
   "outputs": [
    {
     "data": {
      "text/plain": [
       "{'a': 12, 'b': 9, 'c': [1, 2, 3]}"
      ]
     },
     "execution_count": 16,
     "metadata": {},
     "output_type": "execute_result"
    }
   ],
   "source": [
    "d2"
   ]
  },
  {
   "cell_type": "markdown",
   "id": "06f86c0f",
   "metadata": {},
   "source": [
    "### Dictionary methods\n",
    "[https://www.w3schools.com/python/python_ref_dictionary.asp](https://www.w3schools.com/python/python_ref_dictionary.asp)"
   ]
  },
  {
   "cell_type": "markdown",
   "id": "c5cb0cdd",
   "metadata": {},
   "source": [
    "## Read File\n",
    "[https://www.geeksforgeeks.org/how-to-read-from-a-file-in-python/](https://www.geeksforgeeks.org/how-to-read-from-a-file-in-python/)"
   ]
  },
  {
   "cell_type": "markdown",
   "id": "5e993334",
   "metadata": {},
   "source": [
    "### Example file:\n",
    "\n",
    "[MyFile.txt](https://raw.githubusercontent.com/255ribeiro/Algorithmic_Modeling_Special_Training/master/docs/Python_Training/dados_py/MyFile.txt)"
   ]
  },
  {
   "cell_type": "code",
   "execution_count": 20,
   "id": "1d062869",
   "metadata": {},
   "outputs": [
    {
     "name": "stdout",
     "output_type": "stream",
     "text": [
      "Line1: En un lugar de la Mancha, de cuyo nombre no quiero acordarme,\n",
      "Line2: no ha mucho tiempo que vivĂ­a un hidalgo de los de lanza en astillero, adarga antigua,\n",
      "Line3: rocĂ­n flaco y galgo corredor. Una olla de algo mĂĄs vaca que carnero,\n",
      "Line4: salpicĂłn las mĂĄs noches, duelos y quebrantos los sĂĄbados, lantejas los viernes,\n",
      "Line5: algĂşn palomino de aĂąadidura los domingos, consumĂ­an las tres partes de su hacienda.\n",
      "Line6: El resto della concluĂ­an sayo de velarte, calzas de velludo para las fiestas,\n",
      "Line7: con sus pantuflos de lo mesmo, y los dĂ­as de entresemana se honraba con su vellorĂ­ de lo mĂĄs fino.\n",
      "Line8: TenĂ­a en su casa una ama que pasaba de los cuarenta, y una sobrina que no llegaba a los veinte,\n",
      "Line9: y un mozo de campo y plaza, que asĂ­ ensillaba el rocĂ­n como tomaba la podadera.\n",
      "Line10: Frisaba la edad de nuestro hidalgo con los cincuenta aĂąos;\n",
      "Line11: era de complexiĂłn recia, seco de carnes, enjuto de rostro, gran madrugador y amigo de la caza.\n",
      "Line12: Quieren decir que tenĂ­a el sobrenombre de Quijada, o Quesada,\n",
      "Line13: que en esto hay alguna diferencia en los autores que deste caso escriben; aunque,\n",
      "Line14: por conjeturas verosĂ­miles, se deja entender que se llamaba Quejana.\n",
      "Line15: Pero esto importa poco a nuestro cuento;\n",
      "Line16: basta que en la narraciĂłn dĂŠl no se salga un punto de la verdad.\n",
      "Line17: \n",
      "Line18: Es, pues, de saber que este sobredicho hidalgo,\n",
      "Line19: los ratos que estaba ocioso, que eran los mĂĄs del aĂąo,\n",
      "Line20: se daba a leer libros de caballerĂ­as, con tanta aficiĂłn y gusto,\n",
      "Line21: que olvidĂł casi de todo punto el ejercicio de la caza,\n",
      "Line22: y aun la administraciĂłn de su hacienda.\n",
      "Line23: Y llegĂł a tanto su curiosidad y desatino en esto,\n",
      "Line24: que vendiĂł muchas hanegas de tierra de sembradura para comprar libros de caballerĂ­as en que leer,\n",
      "Line25: y asĂ­, llevĂł a su casa todos cuantos pudo haber dellos; y de todos,\n",
      "Line26: ningunos le parecĂ­an tan bien como los que compuso el famoso Feliciano de Silva,\n",
      "Line27: porque la claridad de su prosa y aquellas entricadas razones suyas le parecĂ­an de perlas,\n",
      "Line28: y mĂĄs cuando llegaba a leer aquellos requiebros y cartas de desafĂ­os,\n",
      "Line29: donde en muchas partes hallaba escrito: La razĂłn de la sinrazĂłn que a mi razĂłn se hace,\n",
      "Line30: de tal manera mi razĂłn enflaquece, que con razĂłn me quejo de la vuestra fermosura.\n",
      "Line31: Y tambiĂŠn cuando leĂ­a: ...\n",
      "Line32: los altos cielos que de vuestra divinidad divinamente con las estrellas os fortifican,\n",
      "Line33: y os hacen merecedora del merecimiento que merece la vuestra grandeza.\n",
      "Line34: \n",
      "Line35: Con estas razones perdĂ­a el pobre caballero el juicio,\n",
      "Line36: y desvelĂĄbase por entenderlas y desentraĂąarles el sentido,\n",
      "Line37: que no se lo sacara ni las entendiera el mesmo AristĂłteles,\n",
      "Line38: si resucitara para sĂłlo ello. No estaba muy bien con las heridas que don BelianĂ­s daba y recebĂ­a,\n",
      "Line39: porque se imaginaba que, por grandes maestros que le hubiesen curado,\n",
      "Line40: no dejarĂ­a de tener el rostro y todo el cuerpo lleno de cicatrices y seĂąales.\n",
      "Line41: Pero, con todo, alababa en su autor aquel acabar su libro con la promesa de aquella inacabable aventura,\n",
      "Line42: y muchas veces le vino deseo de tomar la pluma y dalle fin al pie de la letra,\n",
      "Line43: como allĂ­ se promete; y sin duda alguna lo hiciera, y aun saliera con ello,\n",
      "Line44: si otros mayores y continuos pensamientos no se lo estorbaran.\n",
      "Line45: Tuvo muchas veces competencia con el cura de su lugar âque era hombre docto,\n",
      "Line46: graduado en SigĂźenzaâ, sobre cuĂĄl habĂ­a sido mejor caballero:\n",
      "Line47: PalmerĂ­n de Ingalaterra o AmadĂ­s de Gaula; mas maese NicolĂĄs,\n",
      "Line48: barbero del mesmo pueblo, decĂ­a que ninguno llegaba al Caballero del Febo,\n",
      "Line49: y que si alguno se le podĂ­a comparar, era don Galaor, hermano de AmadĂ­s de Gaula,\n",
      "Line50: porque tenĂ­a muy acomodada condiciĂłn para todo; que no era caballero melindroso,\n",
      "Line51: ni tan llorĂłn como su hermano, y que en lo de la valentĂ­a no le iba en zaga.\n"
     ]
    }
   ],
   "source": [
    "file1 = open(\"MyFile.txt\", \"r\", encoding = 'latin2')\n",
    "count=0\n",
    "Lines = file1.readlines()\n",
    "for line in Lines:\n",
    "    count += 1\n",
    "    print(\"Line{}: {}\".format(count, line.strip()))\n",
    "file1.close()"
   ]
  },
  {
   "cell_type": "code",
   "execution_count": null,
   "id": "be5fe5b6",
   "metadata": {},
   "outputs": [],
   "source": []
  }
 ],
 "metadata": {
  "kernelspec": {
   "display_name": "Python 3.10.6 ('.venv': poetry)",
   "language": "python",
   "name": "python3"
  },
  "language_info": {
   "codemirror_mode": {
    "name": "ipython",
    "version": 3
   },
   "file_extension": ".py",
   "mimetype": "text/x-python",
   "name": "python",
   "nbconvert_exporter": "python",
   "pygments_lexer": "ipython3",
   "version": "3.10.6"
  },
  "vscode": {
   "interpreter": {
    "hash": "690c35ee6a4e6f4cb4592a2f147c73b1e469dbeeb7cd573821d67f28b39db452"
   }
  }
 },
 "nbformat": 4,
 "nbformat_minor": 5
}
