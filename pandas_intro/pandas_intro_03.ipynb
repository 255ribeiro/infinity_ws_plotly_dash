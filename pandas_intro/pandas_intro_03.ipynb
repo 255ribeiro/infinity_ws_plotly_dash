{
 "cells": [
  {
   "cell_type": "markdown",
   "id": "26a7daed",
   "metadata": {},
   "source": [
    "# Pandas introduction pt3"
   ]
  },
  {
   "cell_type": "code",
   "execution_count": 77,
   "id": "f6acbeb4",
   "metadata": {},
   "outputs": [],
   "source": [
    "import pandas as pd\n",
    "import numpy as np\n",
    "from matplotlib import pyplot as plt\n",
    "from scipy.optimize import curve_fit"
   ]
  },
  {
   "cell_type": "markdown",
   "id": "59b08613",
   "metadata": {},
   "source": [
    "## Read excel"
   ]
  },
  {
   "cell_type": "code",
   "execution_count": 92,
   "id": "d19ab1de",
   "metadata": {},
   "outputs": [],
   "source": [
    "VP_2 = pd.read_excel('../data_example/VP_2.xls')\n",
    "VP_1 = pd.read_excel('../data_example/VP_1.xls')"
   ]
  },
  {
   "cell_type": "code",
   "execution_count": 93,
   "id": "b91a9afd",
   "metadata": {},
   "outputs": [
    {
     "data": {
      "text/html": [
       "<div>\n",
       "<style scoped>\n",
       "    .dataframe tbody tr th:only-of-type {\n",
       "        vertical-align: middle;\n",
       "    }\n",
       "\n",
       "    .dataframe tbody tr th {\n",
       "        vertical-align: top;\n",
       "    }\n",
       "\n",
       "    .dataframe thead th {\n",
       "        text-align: right;\n",
       "    }\n",
       "</style>\n",
       "<table border=\"1\" class=\"dataframe\">\n",
       "  <thead>\n",
       "    <tr style=\"text-align: right;\">\n",
       "      <th></th>\n",
       "      <th>Time</th>\n",
       "      <th>Probe 1</th>\n",
       "      <th>Probe 2</th>\n",
       "      <th>Probe 3</th>\n",
       "      <th>Probe 4</th>\n",
       "      <th>Probe 5</th>\n",
       "      <th>Probe 6</th>\n",
       "      <th>Probe 7</th>\n",
       "      <th>Probe 8</th>\n",
       "      <th>Probe 9</th>\n",
       "      <th>...</th>\n",
       "      <th>Probe 12</th>\n",
       "      <th>Probe 13</th>\n",
       "      <th>Probe 14</th>\n",
       "      <th>Probe 15</th>\n",
       "      <th>Probe 16</th>\n",
       "      <th>Probe 17</th>\n",
       "      <th>Probe 18</th>\n",
       "      <th>Probe 19</th>\n",
       "      <th>Probe 20</th>\n",
       "      <th>Probe 21</th>\n",
       "    </tr>\n",
       "  </thead>\n",
       "  <tbody>\n",
       "    <tr>\n",
       "      <th>0</th>\n",
       "      <td>50</td>\n",
       "      <td>292.255001</td>\n",
       "      <td>292.255001</td>\n",
       "      <td>292.326823</td>\n",
       "      <td>292.416743</td>\n",
       "      <td>292.554047</td>\n",
       "      <td>292.713264</td>\n",
       "      <td>292.909473</td>\n",
       "      <td>293.117124</td>\n",
       "      <td>293.325634</td>\n",
       "      <td>...</td>\n",
       "      <td>293.634062</td>\n",
       "      <td>293.627201</td>\n",
       "      <td>293.620011</td>\n",
       "      <td>293.616779</td>\n",
       "      <td>293.618232</td>\n",
       "      <td>293.624710</td>\n",
       "      <td>293.634862</td>\n",
       "      <td>293.645742</td>\n",
       "      <td>293.659815</td>\n",
       "      <td>293.674697</td>\n",
       "    </tr>\n",
       "    <tr>\n",
       "      <th>1</th>\n",
       "      <td>100</td>\n",
       "      <td>287.655583</td>\n",
       "      <td>287.655583</td>\n",
       "      <td>288.984022</td>\n",
       "      <td>290.117454</td>\n",
       "      <td>291.319373</td>\n",
       "      <td>292.165028</td>\n",
       "      <td>292.609740</td>\n",
       "      <td>292.798916</td>\n",
       "      <td>292.867632</td>\n",
       "      <td>...</td>\n",
       "      <td>292.965168</td>\n",
       "      <td>293.008770</td>\n",
       "      <td>293.051171</td>\n",
       "      <td>293.092455</td>\n",
       "      <td>293.124922</td>\n",
       "      <td>293.153146</td>\n",
       "      <td>293.175123</td>\n",
       "      <td>293.199628</td>\n",
       "      <td>293.244628</td>\n",
       "      <td>293.276656</td>\n",
       "    </tr>\n",
       "    <tr>\n",
       "      <th>2</th>\n",
       "      <td>150</td>\n",
       "      <td>288.124796</td>\n",
       "      <td>288.124796</td>\n",
       "      <td>288.762105</td>\n",
       "      <td>289.204375</td>\n",
       "      <td>289.607669</td>\n",
       "      <td>290.025754</td>\n",
       "      <td>290.476236</td>\n",
       "      <td>290.952993</td>\n",
       "      <td>291.438280</td>\n",
       "      <td>...</td>\n",
       "      <td>292.548932</td>\n",
       "      <td>292.714100</td>\n",
       "      <td>292.803894</td>\n",
       "      <td>292.852759</td>\n",
       "      <td>292.884445</td>\n",
       "      <td>292.911994</td>\n",
       "      <td>292.945479</td>\n",
       "      <td>292.978187</td>\n",
       "      <td>293.023506</td>\n",
       "      <td>293.064591</td>\n",
       "    </tr>\n",
       "    <tr>\n",
       "      <th>3</th>\n",
       "      <td>200</td>\n",
       "      <td>287.660435</td>\n",
       "      <td>287.660435</td>\n",
       "      <td>288.336565</td>\n",
       "      <td>288.736952</td>\n",
       "      <td>289.051633</td>\n",
       "      <td>289.354671</td>\n",
       "      <td>289.697481</td>\n",
       "      <td>290.110825</td>\n",
       "      <td>290.600381</td>\n",
       "      <td>...</td>\n",
       "      <td>292.086841</td>\n",
       "      <td>292.406865</td>\n",
       "      <td>292.600702</td>\n",
       "      <td>292.693882</td>\n",
       "      <td>292.745420</td>\n",
       "      <td>292.782831</td>\n",
       "      <td>292.824307</td>\n",
       "      <td>292.861706</td>\n",
       "      <td>292.916789</td>\n",
       "      <td>292.963453</td>\n",
       "    </tr>\n",
       "    <tr>\n",
       "      <th>4</th>\n",
       "      <td>250</td>\n",
       "      <td>287.275018</td>\n",
       "      <td>287.275018</td>\n",
       "      <td>287.851397</td>\n",
       "      <td>288.265106</td>\n",
       "      <td>288.567219</td>\n",
       "      <td>288.820999</td>\n",
       "      <td>289.089438</td>\n",
       "      <td>289.429877</td>\n",
       "      <td>289.886126</td>\n",
       "      <td>...</td>\n",
       "      <td>291.540230</td>\n",
       "      <td>291.976199</td>\n",
       "      <td>292.283181</td>\n",
       "      <td>292.455589</td>\n",
       "      <td>292.548872</td>\n",
       "      <td>292.604147</td>\n",
       "      <td>292.652649</td>\n",
       "      <td>292.696538</td>\n",
       "      <td>292.764584</td>\n",
       "      <td>292.818727</td>\n",
       "    </tr>\n",
       "  </tbody>\n",
       "</table>\n",
       "<p>5 rows × 22 columns</p>\n",
       "</div>"
      ],
      "text/plain": [
       "   Time     Probe 1     Probe 2     Probe 3     Probe 4     Probe 5  \\\n",
       "0    50  292.255001  292.255001  292.326823  292.416743  292.554047   \n",
       "1   100  287.655583  287.655583  288.984022  290.117454  291.319373   \n",
       "2   150  288.124796  288.124796  288.762105  289.204375  289.607669   \n",
       "3   200  287.660435  287.660435  288.336565  288.736952  289.051633   \n",
       "4   250  287.275018  287.275018  287.851397  288.265106  288.567219   \n",
       "\n",
       "      Probe 6     Probe 7     Probe 8     Probe 9  ...    Probe 12  \\\n",
       "0  292.713264  292.909473  293.117124  293.325634  ...  293.634062   \n",
       "1  292.165028  292.609740  292.798916  292.867632  ...  292.965168   \n",
       "2  290.025754  290.476236  290.952993  291.438280  ...  292.548932   \n",
       "3  289.354671  289.697481  290.110825  290.600381  ...  292.086841   \n",
       "4  288.820999  289.089438  289.429877  289.886126  ...  291.540230   \n",
       "\n",
       "     Probe 13    Probe 14    Probe 15    Probe 16    Probe 17    Probe 18  \\\n",
       "0  293.627201  293.620011  293.616779  293.618232  293.624710  293.634862   \n",
       "1  293.008770  293.051171  293.092455  293.124922  293.153146  293.175123   \n",
       "2  292.714100  292.803894  292.852759  292.884445  292.911994  292.945479   \n",
       "3  292.406865  292.600702  292.693882  292.745420  292.782831  292.824307   \n",
       "4  291.976199  292.283181  292.455589  292.548872  292.604147  292.652649   \n",
       "\n",
       "     Probe 19    Probe 20    Probe 21  \n",
       "0  293.645742  293.659815  293.674697  \n",
       "1  293.199628  293.244628  293.276656  \n",
       "2  292.978187  293.023506  293.064591  \n",
       "3  292.861706  292.916789  292.963453  \n",
       "4  292.696538  292.764584  292.818727  \n",
       "\n",
       "[5 rows x 22 columns]"
      ]
     },
     "execution_count": 93,
     "metadata": {},
     "output_type": "execute_result"
    }
   ],
   "source": [
    "VP_1.head()"
   ]
  },
  {
   "cell_type": "code",
   "execution_count": 80,
   "id": "0e522658",
   "metadata": {},
   "outputs": [],
   "source": [
    "# to read a xls file you must install some libraries\n",
    "#!conda install xlrd"
   ]
  },
  {
   "cell_type": "code",
   "execution_count": 106,
   "id": "422d64c1",
   "metadata": {},
   "outputs": [
    {
     "data": {
      "text/html": [
       "<div>\n",
       "<style scoped>\n",
       "    .dataframe tbody tr th:only-of-type {\n",
       "        vertical-align: middle;\n",
       "    }\n",
       "\n",
       "    .dataframe tbody tr th {\n",
       "        vertical-align: top;\n",
       "    }\n",
       "\n",
       "    .dataframe thead th {\n",
       "        text-align: right;\n",
       "    }\n",
       "</style>\n",
       "<table border=\"1\" class=\"dataframe\">\n",
       "  <thead>\n",
       "    <tr style=\"text-align: right;\">\n",
       "      <th></th>\n",
       "      <th>Probe 1</th>\n",
       "    </tr>\n",
       "    <tr>\n",
       "      <th>Time</th>\n",
       "      <th></th>\n",
       "    </tr>\n",
       "  </thead>\n",
       "  <tbody>\n",
       "    <tr>\n",
       "      <th>50</th>\n",
       "      <td>292.255001</td>\n",
       "    </tr>\n",
       "    <tr>\n",
       "      <th>100</th>\n",
       "      <td>287.655583</td>\n",
       "    </tr>\n",
       "    <tr>\n",
       "      <th>150</th>\n",
       "      <td>288.124796</td>\n",
       "    </tr>\n",
       "    <tr>\n",
       "      <th>200</th>\n",
       "      <td>287.660435</td>\n",
       "    </tr>\n",
       "    <tr>\n",
       "      <th>250</th>\n",
       "      <td>287.275018</td>\n",
       "    </tr>\n",
       "  </tbody>\n",
       "</table>\n",
       "</div>"
      ],
      "text/plain": [
       "         Probe 1\n",
       "Time            \n",
       "50    292.255001\n",
       "100   287.655583\n",
       "150   288.124796\n",
       "200   287.660435\n",
       "250   287.275018"
      ]
     },
     "execution_count": 106,
     "metadata": {},
     "output_type": "execute_result"
    }
   ],
   "source": [
    "probe_1_1 = VP_1[['Time','Probe 1']].set_index('Time')\n",
    "probe_1_1.head()"
   ]
  },
  {
   "cell_type": "code",
   "execution_count": 105,
   "id": "eb9251f3",
   "metadata": {},
   "outputs": [
    {
     "data": {
      "text/html": [
       "<div>\n",
       "<style scoped>\n",
       "    .dataframe tbody tr th:only-of-type {\n",
       "        vertical-align: middle;\n",
       "    }\n",
       "\n",
       "    .dataframe tbody tr th {\n",
       "        vertical-align: top;\n",
       "    }\n",
       "\n",
       "    .dataframe thead th {\n",
       "        text-align: right;\n",
       "    }\n",
       "</style>\n",
       "<table border=\"1\" class=\"dataframe\">\n",
       "  <thead>\n",
       "    <tr style=\"text-align: right;\">\n",
       "      <th></th>\n",
       "      <th>Probe 1</th>\n",
       "    </tr>\n",
       "    <tr>\n",
       "      <th>Time</th>\n",
       "      <th></th>\n",
       "    </tr>\n",
       "  </thead>\n",
       "  <tbody>\n",
       "    <tr>\n",
       "      <th>50</th>\n",
       "      <td>286.719286</td>\n",
       "    </tr>\n",
       "    <tr>\n",
       "      <th>100</th>\n",
       "      <td>284.593707</td>\n",
       "    </tr>\n",
       "    <tr>\n",
       "      <th>150</th>\n",
       "      <td>283.781362</td>\n",
       "    </tr>\n",
       "    <tr>\n",
       "      <th>200</th>\n",
       "      <td>283.278204</td>\n",
       "    </tr>\n",
       "    <tr>\n",
       "      <th>250</th>\n",
       "      <td>284.446281</td>\n",
       "    </tr>\n",
       "  </tbody>\n",
       "</table>\n",
       "</div>"
      ],
      "text/plain": [
       "         Probe 1\n",
       "Time            \n",
       "50    286.719286\n",
       "100   284.593707\n",
       "150   283.781362\n",
       "200   283.278204\n",
       "250   284.446281"
      ]
     },
     "execution_count": 105,
     "metadata": {},
     "output_type": "execute_result"
    }
   ],
   "source": [
    "probe_1_2 =VP_2[['Time','Probe 1']].set_index('Time')\n",
    "probe_1_2.head()"
   ]
  },
  {
   "cell_type": "code",
   "execution_count": 135,
   "id": "0aa38aaa",
   "metadata": {},
   "outputs": [],
   "source": [
    "VP_0 = probe_1_1.join(probe_1_2, how = 'outer', lsuffix=' VP1', rsuffix=' VP2')\n"
   ]
  },
  {
   "cell_type": "code",
   "execution_count": 136,
   "id": "93fd112b",
   "metadata": {
    "scrolled": true
   },
   "outputs": [
    {
     "data": {
      "text/html": [
       "<div>\n",
       "<style scoped>\n",
       "    .dataframe tbody tr th:only-of-type {\n",
       "        vertical-align: middle;\n",
       "    }\n",
       "\n",
       "    .dataframe tbody tr th {\n",
       "        vertical-align: top;\n",
       "    }\n",
       "\n",
       "    .dataframe thead th {\n",
       "        text-align: right;\n",
       "    }\n",
       "</style>\n",
       "<table border=\"1\" class=\"dataframe\">\n",
       "  <thead>\n",
       "    <tr style=\"text-align: right;\">\n",
       "      <th></th>\n",
       "      <th>count</th>\n",
       "      <th>mean</th>\n",
       "      <th>std</th>\n",
       "      <th>min</th>\n",
       "      <th>25%</th>\n",
       "      <th>50%</th>\n",
       "      <th>75%</th>\n",
       "      <th>max</th>\n",
       "    </tr>\n",
       "  </thead>\n",
       "  <tbody>\n",
       "    <tr>\n",
       "      <th>Probe 1 VP1</th>\n",
       "      <td>100.0</td>\n",
       "      <td>282.236185</td>\n",
       "      <td>2.045805</td>\n",
       "      <td>279.861618</td>\n",
       "      <td>281.024467</td>\n",
       "      <td>281.715948</td>\n",
       "      <td>282.552863</td>\n",
       "      <td>292.255001</td>\n",
       "    </tr>\n",
       "    <tr>\n",
       "      <th>Probe 1 VP2</th>\n",
       "      <td>100.0</td>\n",
       "      <td>281.646577</td>\n",
       "      <td>1.337750</td>\n",
       "      <td>278.180517</td>\n",
       "      <td>280.887342</td>\n",
       "      <td>281.694376</td>\n",
       "      <td>282.287850</td>\n",
       "      <td>286.719286</td>\n",
       "    </tr>\n",
       "  </tbody>\n",
       "</table>\n",
       "</div>"
      ],
      "text/plain": [
       "             count        mean       std         min         25%         50%  \\\n",
       "Probe 1 VP1  100.0  282.236185  2.045805  279.861618  281.024467  281.715948   \n",
       "Probe 1 VP2  100.0  281.646577  1.337750  278.180517  280.887342  281.694376   \n",
       "\n",
       "                    75%         max  \n",
       "Probe 1 VP1  282.552863  292.255001  \n",
       "Probe 1 VP2  282.287850  286.719286  "
      ]
     },
     "execution_count": 136,
     "metadata": {},
     "output_type": "execute_result"
    }
   ],
   "source": [
    "VP_0.describe().T"
   ]
  },
  {
   "cell_type": "code",
   "execution_count": 131,
   "id": "7a584420",
   "metadata": {},
   "outputs": [],
   "source": [
    "VP_0.reset_index(inplace = True)"
   ]
  },
  {
   "cell_type": "code",
   "execution_count": 137,
   "id": "097bf0f2",
   "metadata": {},
   "outputs": [
    {
     "data": {
      "text/html": [
       "<div>\n",
       "<style scoped>\n",
       "    .dataframe tbody tr th:only-of-type {\n",
       "        vertical-align: middle;\n",
       "    }\n",
       "\n",
       "    .dataframe tbody tr th {\n",
       "        vertical-align: top;\n",
       "    }\n",
       "\n",
       "    .dataframe thead th {\n",
       "        text-align: right;\n",
       "    }\n",
       "</style>\n",
       "<table border=\"1\" class=\"dataframe\">\n",
       "  <thead>\n",
       "    <tr style=\"text-align: right;\">\n",
       "      <th></th>\n",
       "      <th>Probe 1 VP1</th>\n",
       "      <th>Probe 1 VP2</th>\n",
       "    </tr>\n",
       "    <tr>\n",
       "      <th>Time</th>\n",
       "      <th></th>\n",
       "      <th></th>\n",
       "    </tr>\n",
       "  </thead>\n",
       "  <tbody>\n",
       "    <tr>\n",
       "      <th>50</th>\n",
       "      <td>292.255001</td>\n",
       "      <td>286.719286</td>\n",
       "    </tr>\n",
       "    <tr>\n",
       "      <th>100</th>\n",
       "      <td>287.655583</td>\n",
       "      <td>284.593707</td>\n",
       "    </tr>\n",
       "    <tr>\n",
       "      <th>150</th>\n",
       "      <td>288.124796</td>\n",
       "      <td>283.781362</td>\n",
       "    </tr>\n",
       "    <tr>\n",
       "      <th>200</th>\n",
       "      <td>287.660435</td>\n",
       "      <td>283.278204</td>\n",
       "    </tr>\n",
       "    <tr>\n",
       "      <th>250</th>\n",
       "      <td>287.275018</td>\n",
       "      <td>284.446281</td>\n",
       "    </tr>\n",
       "  </tbody>\n",
       "</table>\n",
       "</div>"
      ],
      "text/plain": [
       "      Probe 1 VP1  Probe 1 VP2\n",
       "Time                          \n",
       "50     292.255001   286.719286\n",
       "100    287.655583   284.593707\n",
       "150    288.124796   283.781362\n",
       "200    287.660435   283.278204\n",
       "250    287.275018   284.446281"
      ]
     },
     "execution_count": 137,
     "metadata": {},
     "output_type": "execute_result"
    }
   ],
   "source": [
    "VP_0.head()"
   ]
  },
  {
   "cell_type": "code",
   "execution_count": 138,
   "id": "3272d143",
   "metadata": {},
   "outputs": [
    {
     "name": "stdout",
     "output_type": "stream",
     "text": [
      "Probe 1 VP1\n",
      "Probe 1 VP2\n"
     ]
    }
   ],
   "source": [
    "for col in VP_0.columns:\n",
    "    print(col)"
   ]
  },
  {
   "cell_type": "code",
   "execution_count": 134,
   "id": "5d339d33",
   "metadata": {},
   "outputs": [
    {
     "data": {
      "text/plain": [
       "Index(['Probe 1 VP1', 'Probe 1 VP2'], dtype='object')"
      ]
     },
     "execution_count": 134,
     "metadata": {},
     "output_type": "execute_result"
    }
   ],
   "source": [
    "c_list = VP_0.columns\n",
    "c_list[1:]"
   ]
  },
  {
   "cell_type": "code",
   "execution_count": 119,
   "id": "132e2b40",
   "metadata": {},
   "outputs": [
    {
     "data": {
      "text/plain": [
       "Probe 1VP1    4.185320\n",
       "Probe 1VP2    1.789574\n",
       "dtype: float64"
      ]
     },
     "execution_count": 119,
     "metadata": {},
     "output_type": "execute_result"
    }
   ],
   "source": [
    "VP_0[c_list[1:]].var()\n",
    "    "
   ]
  },
  {
   "cell_type": "code",
   "execution_count": 139,
   "id": "61b1f175",
   "metadata": {},
   "outputs": [
    {
     "data": {
      "text/html": [
       "<div>\n",
       "<style scoped>\n",
       "    .dataframe tbody tr th:only-of-type {\n",
       "        vertical-align: middle;\n",
       "    }\n",
       "\n",
       "    .dataframe tbody tr th {\n",
       "        vertical-align: top;\n",
       "    }\n",
       "\n",
       "    .dataframe thead th {\n",
       "        text-align: right;\n",
       "    }\n",
       "</style>\n",
       "<table border=\"1\" class=\"dataframe\">\n",
       "  <thead>\n",
       "    <tr style=\"text-align: right;\">\n",
       "      <th></th>\n",
       "      <th>Probe 1 VP1</th>\n",
       "      <th>Probe 1 VP2</th>\n",
       "    </tr>\n",
       "  </thead>\n",
       "  <tbody>\n",
       "    <tr>\n",
       "      <th>std</th>\n",
       "      <td>2.045805</td>\n",
       "      <td>1.337750</td>\n",
       "    </tr>\n",
       "    <tr>\n",
       "      <th>sum</th>\n",
       "      <td>28223.618492</td>\n",
       "      <td>28164.657707</td>\n",
       "    </tr>\n",
       "    <tr>\n",
       "      <th>mean</th>\n",
       "      <td>282.236185</td>\n",
       "      <td>281.646577</td>\n",
       "    </tr>\n",
       "    <tr>\n",
       "      <th>median</th>\n",
       "      <td>281.715948</td>\n",
       "      <td>281.694376</td>\n",
       "    </tr>\n",
       "    <tr>\n",
       "      <th>var</th>\n",
       "      <td>4.185320</td>\n",
       "      <td>1.789574</td>\n",
       "    </tr>\n",
       "  </tbody>\n",
       "</table>\n",
       "</div>"
      ],
      "text/plain": [
       "         Probe 1 VP1   Probe 1 VP2\n",
       "std         2.045805      1.337750\n",
       "sum     28223.618492  28164.657707\n",
       "mean      282.236185    281.646577\n",
       "median    281.715948    281.694376\n",
       "var         4.185320      1.789574"
      ]
     },
     "execution_count": 139,
     "metadata": {},
     "output_type": "execute_result"
    }
   ],
   "source": [
    "VP_0.agg(['std', 'sum', 'mean', 'median', 'var'])"
   ]
  },
  {
   "cell_type": "code",
   "execution_count": 143,
   "id": "01e9aebc",
   "metadata": {},
   "outputs": [
    {
     "name": "stderr",
     "output_type": "stream",
     "text": [
      "C:\\Users\\ferra\\AppData\\Local\\Temp/ipykernel_7360/3479644059.py:6: UserWarning: Matplotlib is currently using module://matplotlib_inline.backend_inline, which is a non-GUI backend, so cannot show the figure.\n",
      "  fig.show()\n"
     ]
    },
    {
     "data": {
      "image/png": "[encoded data removed]",
      "text/plain": [
       "<Figure size 720x720 with 1 Axes>"
      ]
     },
     "metadata": {
      "needs_background": "light"
     },
     "output_type": "display_data"
    }
   ],
   "source": [
    "fig, ax = plt.subplots(figsize=(10,10))\n",
    "\n",
    "ax = plt.plot(VP_0.index, VP_0.iloc[:, :] )\n",
    "fig.legend(c_list[1:])\n",
    "\n",
    "fig.show()"
   ]
  },
  {
   "cell_type": "code",
   "execution_count": 149,
   "id": "329bb928",
   "metadata": {},
   "outputs": [
    {
     "name": "stderr",
     "output_type": "stream",
     "text": [
      "C:\\Users\\ferra\\AppData\\Local\\Temp/ipykernel_7360/2005131704.py:6: UserWarning: Matplotlib is currently using module://matplotlib_inline.backend_inline, which is a non-GUI backend, so cannot show the figure.\n",
      "  fig.show()\n"
     ]
    },
    {
     "data": {
      "image/png": "[encoded data removed]",
      "text/plain": [
       "<Figure size 720x720 with 1 Axes>"
      ]
     },
     "metadata": {
      "needs_background": "light"
     },
     "output_type": "display_data"
    }
   ],
   "source": [
    "fig, ax = plt.subplots(figsize=(10,10))\n",
    "#ax.set_aspect('equal')\n",
    "for col in c_list[1:]:\n",
    "    ax = plt.scatter(VP_0.index, VP_0[col] )\n",
    "fig.legend(VP_0.columns)\n",
    "fig.show()"
   ]
  },
  {
   "cell_type": "code",
   "execution_count": 145,
   "id": "817d53c6",
   "metadata": {},
   "outputs": [
    {
     "data": {
      "image/png": "[encoded data removed]",
      "text/plain": [
       "<Figure size 432x288 with 1 Axes>"
      ]
     },
     "metadata": {
      "needs_background": "light"
     },
     "output_type": "display_data"
    }
   ],
   "source": [
    "boxplot = VP_0.boxplot()\n",
    "\n"
   ]
  },
  {
   "cell_type": "code",
   "execution_count": 146,
   "id": "9a56ebb5",
   "metadata": {},
   "outputs": [],
   "source": [
    "VP_temp = VP_0"
   ]
  },
  {
   "cell_type": "code",
   "execution_count": 147,
   "id": "23ac1111",
   "metadata": {},
   "outputs": [
    {
     "data": {
      "text/html": [
       "<div>\n",
       "<style scoped>\n",
       "    .dataframe tbody tr th:only-of-type {\n",
       "        vertical-align: middle;\n",
       "    }\n",
       "\n",
       "    .dataframe tbody tr th {\n",
       "        vertical-align: top;\n",
       "    }\n",
       "\n",
       "    .dataframe thead th {\n",
       "        text-align: right;\n",
       "    }\n",
       "</style>\n",
       "<table border=\"1\" class=\"dataframe\">\n",
       "  <thead>\n",
       "    <tr style=\"text-align: right;\">\n",
       "      <th></th>\n",
       "      <th>Probe 1 VP1</th>\n",
       "      <th>Probe 1 VP2</th>\n",
       "    </tr>\n",
       "    <tr>\n",
       "      <th>Time</th>\n",
       "      <th></th>\n",
       "      <th></th>\n",
       "    </tr>\n",
       "  </thead>\n",
       "  <tbody>\n",
       "    <tr>\n",
       "      <th>50</th>\n",
       "      <td>292.255001</td>\n",
       "      <td>286.719286</td>\n",
       "    </tr>\n",
       "    <tr>\n",
       "      <th>100</th>\n",
       "      <td>287.655583</td>\n",
       "      <td>284.593707</td>\n",
       "    </tr>\n",
       "    <tr>\n",
       "      <th>150</th>\n",
       "      <td>288.124796</td>\n",
       "      <td>283.781362</td>\n",
       "    </tr>\n",
       "    <tr>\n",
       "      <th>200</th>\n",
       "      <td>287.660435</td>\n",
       "      <td>283.278204</td>\n",
       "    </tr>\n",
       "    <tr>\n",
       "      <th>250</th>\n",
       "      <td>287.275018</td>\n",
       "      <td>284.446281</td>\n",
       "    </tr>\n",
       "    <tr>\n",
       "      <th>...</th>\n",
       "      <td>...</td>\n",
       "      <td>...</td>\n",
       "    </tr>\n",
       "    <tr>\n",
       "      <th>4800</th>\n",
       "      <td>281.375157</td>\n",
       "      <td>281.423023</td>\n",
       "    </tr>\n",
       "    <tr>\n",
       "      <th>4850</th>\n",
       "      <td>280.640591</td>\n",
       "      <td>279.436387</td>\n",
       "    </tr>\n",
       "    <tr>\n",
       "      <th>4900</th>\n",
       "      <td>280.162018</td>\n",
       "      <td>280.660788</td>\n",
       "    </tr>\n",
       "    <tr>\n",
       "      <th>4950</th>\n",
       "      <td>282.886872</td>\n",
       "      <td>281.095328</td>\n",
       "    </tr>\n",
       "    <tr>\n",
       "      <th>5000</th>\n",
       "      <td>280.990975</td>\n",
       "      <td>281.416320</td>\n",
       "    </tr>\n",
       "  </tbody>\n",
       "</table>\n",
       "<p>100 rows × 2 columns</p>\n",
       "</div>"
      ],
      "text/plain": [
       "      Probe 1 VP1  Probe 1 VP2\n",
       "Time                          \n",
       "50     292.255001   286.719286\n",
       "100    287.655583   284.593707\n",
       "150    288.124796   283.781362\n",
       "200    287.660435   283.278204\n",
       "250    287.275018   284.446281\n",
       "...           ...          ...\n",
       "4800   281.375157   281.423023\n",
       "4850   280.640591   279.436387\n",
       "4900   280.162018   280.660788\n",
       "4950   282.886872   281.095328\n",
       "5000   280.990975   281.416320\n",
       "\n",
       "[100 rows x 2 columns]"
      ]
     },
     "execution_count": 147,
     "metadata": {},
     "output_type": "execute_result"
    }
   ],
   "source": [
    "VP_temp"
   ]
  },
  {
   "cell_type": "code",
   "execution_count": 148,
   "id": "b33ff7b0",
   "metadata": {},
   "outputs": [
    {
     "data": {
      "image/png": "[encoded data removed]",
      "text/plain": [
       "<Figure size 1080x720 with 1 Axes>"
      ]
     },
     "metadata": {
      "needs_background": "light"
     },
     "output_type": "display_data"
    }
   ],
   "source": [
    "fig, ax = plt.subplots(figsize=(15,10))\n",
    "\n",
    "plt.title(\"Probes Temperature Boxplot\\n\", fontsize=25)\n",
    "\n",
    "plt.xlabel('\\nVP number', fontsize=18)\n",
    "plt.ylabel('Temperatues K°\\n', fontsize=18)\n",
    "\n",
    "plt.grid(axis='y', color='lightgrey')\n",
    "plt.grid(axis='x', color='lightgrey')\n",
    "\n",
    "ax.boxplot(VP_temp, patch_artist=True)\n",
    "#ax.set_xticklabels(labels =c_list[1:],  rotation=90)\n",
    "#plt.xticks(rotation=90)\n",
    "\n",
    "plt.savefig( './output/boxplot' + '.png', format ='png',  bbox_inches='tight')\n",
    "plt.show()"
   ]
  },
  {
   "cell_type": "code",
   "execution_count": null,
   "id": "bbf4604d",
   "metadata": {},
   "outputs": [],
   "source": []
  }
 ],
 "metadata": {
  "kernelspec": {
   "display_name": "Python 3 (ipykernel)",
   "language": "python",
   "name": "python3"
  },
  "language_info": {
   "codemirror_mode": {
    "name": "ipython",
    "version": 3
   },
   "file_extension": ".py",
   "mimetype": "text/x-python",
   "name": "python",
   "nbconvert_exporter": "python",
   "pygments_lexer": "ipython3",
   "version": "3.8.8"
  }
 },
 "nbformat": 4,
 "nbformat_minor": 5
}
